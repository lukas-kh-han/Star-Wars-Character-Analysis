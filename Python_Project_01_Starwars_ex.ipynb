{
  "nbformat": 4,
  "nbformat_minor": 0,
  "metadata": {
    "colab": {
      "provenance": [],
      "include_colab_link": true
    },
    "kernelspec": {
      "name": "python3",
      "display_name": "Python 3"
    },
    "language_info": {
      "name": "python"
    }
  },
  "cells": [
    {
      "cell_type": "markdown",
      "metadata": {
        "id": "view-in-github",
        "colab_type": "text"
      },
      "source": [
        "<a href=\"https://colab.research.google.com/github/lukas-kh-han/Star-Wars-Character-Analysis/blob/main/Python_Project_01_Starwars_ex.ipynb\" target=\"_parent\"><img src=\"https://colab.research.google.com/assets/colab-badge.svg\" alt=\"Open In Colab\"/></a>"
      ]
    },
    {
      "cell_type": "markdown",
      "metadata": {
        "id": "UgFqC1Wv3aJ3"
      },
      "source": [
        "#Star Wars Character Analysis\n",
        "\n",
        "* This is data from the Star Wars API ([SWAP](https://swapi.dev/)), which represents the characteristics of the characters in Star Wars.\n",
        "*   Data from: https://dplyr.tidyverse.org/reference/starwars.html\n",
        "\n"
      ]
    },
    {
      "cell_type": "markdown",
      "source": [
        "##Questions\n",
        "\n",
        "* What is the gender ratio of Star Wars characters?\n",
        "* What is the distribution of characters' heights by gender?\n",
        "* Who are the heaviest and lightest characters?\n",
        "* Do characters' heights and weights correlate?"
      ],
      "metadata": {
        "id": "5LCP1AHuH2Hi"
      }
    },
    {
      "cell_type": "markdown",
      "metadata": {
        "id": "mWnT0Kkh3vZy"
      },
      "source": [
        "##1. Data Exploration"
      ]
    },
    {
      "cell_type": "code",
      "metadata": {
        "id": "Cv49O7mq3vIb",
        "colab": {
          "base_uri": "https://localhost:8080/"
        },
        "outputId": "7bebbd36-0420-4353-8431-b2042ec885e5"
      },
      "source": [
        "#import libraries\n",
        "import math\n",
        "import numpy as np\n",
        "import pandas as pd\n",
        "import seaborn as sns\n",
        "import matplotlib.pyplot as plt\n",
        "\n",
        "plt.style.use('seaborn') #default graph type\n",
        "sns.set(font_scale=1)\n",
        "\n",
        "import warnings #ignore warning message\n",
        "warnings.simplefilter(action='ignore', category=FutureWarning)"
      ],
      "execution_count": 2,
      "outputs": [
        {
          "output_type": "stream",
          "name": "stderr",
          "text": [
            "<ipython-input-2-eb7129094cee>:8: MatplotlibDeprecationWarning: The seaborn styles shipped by Matplotlib are deprecated since 3.6, as they no longer correspond to the styles shipped by seaborn. However, they will remain available as 'seaborn-v0_8-<style>'. Alternatively, directly use the seaborn API instead.\n",
            "  plt.style.use('seaborn') #default graph type\n"
          ]
        }
      ]
    },
    {
      "cell_type": "code",
      "metadata": {
        "id": "xxB1aKGc3TNZ",
        "colab": {
          "base_uri": "https://localhost:8080/"
        },
        "outputId": "2a3942f2-4a09-4ef9-d0cb-6db8ebddc727"
      },
      "source": [
        "#mount to Google Drive\n",
        "from google.colab import drive \n",
        "drive.mount('/content/drive')"
      ],
      "execution_count": 3,
      "outputs": [
        {
          "output_type": "stream",
          "name": "stdout",
          "text": [
            "Mounted at /content/drive\n"
          ]
        }
      ]
    },
    {
      "cell_type": "code",
      "metadata": {
        "id": "Lrcd7rvb30qT"
      },
      "source": [
        "#import data (csv type)\n",
        "sw = pd.read_csv('/content/drive/MyDrive/Python Projects/Ch 01_ Starwars/Starwars.csv')"
      ],
      "execution_count": 4,
      "outputs": []
    },
    {
      "cell_type": "code",
      "metadata": {
        "id": "ny7lVJPi4ALr",
        "colab": {
          "base_uri": "https://localhost:8080/",
          "height": 206
        },
        "outputId": "7ba49ca7-48af-4668-d826-8a9e7bc4433b"
      },
      "source": [
        "#verify imported data\n",
        "sw.head(5)"
      ],
      "execution_count": 5,
      "outputs": [
        {
          "output_type": "execute_result",
          "data": {
            "text/plain": [
              "             name  height   mass hair_color   skin_color eye_color  \\\n",
              "0  Luke Skywalker   172.0   77.0      blond         fair      blue   \n",
              "1           C-3PO   167.0   75.0        NaN         gold    yellow   \n",
              "2           R2-D2    96.0   32.0        NaN  white, blue       red   \n",
              "3     Darth Vader   202.0  136.0       none        white    yellow   \n",
              "4     Leia Organa   150.0   49.0      brown        light     brown   \n",
              "\n",
              "   birth_year     sex     gender homeworld species  \n",
              "0        19.0    male  masculine  Tatooine   Human  \n",
              "1       112.0    none  masculine  Tatooine   Droid  \n",
              "2        33.0    none  masculine     Naboo   Droid  \n",
              "3        41.9    male  masculine  Tatooine   Human  \n",
              "4        19.0  female   feminine  Alderaan   Human  "
            ],
            "text/html": [
              "\n",
              "  <div id=\"df-988522b8-96b3-438b-a62e-5a88c2ed8e9f\">\n",
              "    <div class=\"colab-df-container\">\n",
              "      <div>\n",
              "<style scoped>\n",
              "    .dataframe tbody tr th:only-of-type {\n",
              "        vertical-align: middle;\n",
              "    }\n",
              "\n",
              "    .dataframe tbody tr th {\n",
              "        vertical-align: top;\n",
              "    }\n",
              "\n",
              "    .dataframe thead th {\n",
              "        text-align: right;\n",
              "    }\n",
              "</style>\n",
              "<table border=\"1\" class=\"dataframe\">\n",
              "  <thead>\n",
              "    <tr style=\"text-align: right;\">\n",
              "      <th></th>\n",
              "      <th>name</th>\n",
              "      <th>height</th>\n",
              "      <th>mass</th>\n",
              "      <th>hair_color</th>\n",
              "      <th>skin_color</th>\n",
              "      <th>eye_color</th>\n",
              "      <th>birth_year</th>\n",
              "      <th>sex</th>\n",
              "      <th>gender</th>\n",
              "      <th>homeworld</th>\n",
              "      <th>species</th>\n",
              "    </tr>\n",
              "  </thead>\n",
              "  <tbody>\n",
              "    <tr>\n",
              "      <th>0</th>\n",
              "      <td>Luke Skywalker</td>\n",
              "      <td>172.0</td>\n",
              "      <td>77.0</td>\n",
              "      <td>blond</td>\n",
              "      <td>fair</td>\n",
              "      <td>blue</td>\n",
              "      <td>19.0</td>\n",
              "      <td>male</td>\n",
              "      <td>masculine</td>\n",
              "      <td>Tatooine</td>\n",
              "      <td>Human</td>\n",
              "    </tr>\n",
              "    <tr>\n",
              "      <th>1</th>\n",
              "      <td>C-3PO</td>\n",
              "      <td>167.0</td>\n",
              "      <td>75.0</td>\n",
              "      <td>NaN</td>\n",
              "      <td>gold</td>\n",
              "      <td>yellow</td>\n",
              "      <td>112.0</td>\n",
              "      <td>none</td>\n",
              "      <td>masculine</td>\n",
              "      <td>Tatooine</td>\n",
              "      <td>Droid</td>\n",
              "    </tr>\n",
              "    <tr>\n",
              "      <th>2</th>\n",
              "      <td>R2-D2</td>\n",
              "      <td>96.0</td>\n",
              "      <td>32.0</td>\n",
              "      <td>NaN</td>\n",
              "      <td>white, blue</td>\n",
              "      <td>red</td>\n",
              "      <td>33.0</td>\n",
              "      <td>none</td>\n",
              "      <td>masculine</td>\n",
              "      <td>Naboo</td>\n",
              "      <td>Droid</td>\n",
              "    </tr>\n",
              "    <tr>\n",
              "      <th>3</th>\n",
              "      <td>Darth Vader</td>\n",
              "      <td>202.0</td>\n",
              "      <td>136.0</td>\n",
              "      <td>none</td>\n",
              "      <td>white</td>\n",
              "      <td>yellow</td>\n",
              "      <td>41.9</td>\n",
              "      <td>male</td>\n",
              "      <td>masculine</td>\n",
              "      <td>Tatooine</td>\n",
              "      <td>Human</td>\n",
              "    </tr>\n",
              "    <tr>\n",
              "      <th>4</th>\n",
              "      <td>Leia Organa</td>\n",
              "      <td>150.0</td>\n",
              "      <td>49.0</td>\n",
              "      <td>brown</td>\n",
              "      <td>light</td>\n",
              "      <td>brown</td>\n",
              "      <td>19.0</td>\n",
              "      <td>female</td>\n",
              "      <td>feminine</td>\n",
              "      <td>Alderaan</td>\n",
              "      <td>Human</td>\n",
              "    </tr>\n",
              "  </tbody>\n",
              "</table>\n",
              "</div>\n",
              "      <button class=\"colab-df-convert\" onclick=\"convertToInteractive('df-988522b8-96b3-438b-a62e-5a88c2ed8e9f')\"\n",
              "              title=\"Convert this dataframe to an interactive table.\"\n",
              "              style=\"display:none;\">\n",
              "        \n",
              "  <svg xmlns=\"http://www.w3.org/2000/svg\" height=\"24px\"viewBox=\"0 0 24 24\"\n",
              "       width=\"24px\">\n",
              "    <path d=\"M0 0h24v24H0V0z\" fill=\"none\"/>\n",
              "    <path d=\"M18.56 5.44l.94 2.06.94-2.06 2.06-.94-2.06-.94-.94-2.06-.94 2.06-2.06.94zm-11 1L8.5 8.5l.94-2.06 2.06-.94-2.06-.94L8.5 2.5l-.94 2.06-2.06.94zm10 10l.94 2.06.94-2.06 2.06-.94-2.06-.94-.94-2.06-.94 2.06-2.06.94z\"/><path d=\"M17.41 7.96l-1.37-1.37c-.4-.4-.92-.59-1.43-.59-.52 0-1.04.2-1.43.59L10.3 9.45l-7.72 7.72c-.78.78-.78 2.05 0 2.83L4 21.41c.39.39.9.59 1.41.59.51 0 1.02-.2 1.41-.59l7.78-7.78 2.81-2.81c.8-.78.8-2.07 0-2.86zM5.41 20L4 18.59l7.72-7.72 1.47 1.35L5.41 20z\"/>\n",
              "  </svg>\n",
              "      </button>\n",
              "      \n",
              "  <style>\n",
              "    .colab-df-container {\n",
              "      display:flex;\n",
              "      flex-wrap:wrap;\n",
              "      gap: 12px;\n",
              "    }\n",
              "\n",
              "    .colab-df-convert {\n",
              "      background-color: #E8F0FE;\n",
              "      border: none;\n",
              "      border-radius: 50%;\n",
              "      cursor: pointer;\n",
              "      display: none;\n",
              "      fill: #1967D2;\n",
              "      height: 32px;\n",
              "      padding: 0 0 0 0;\n",
              "      width: 32px;\n",
              "    }\n",
              "\n",
              "    .colab-df-convert:hover {\n",
              "      background-color: #E2EBFA;\n",
              "      box-shadow: 0px 1px 2px rgba(60, 64, 67, 0.3), 0px 1px 3px 1px rgba(60, 64, 67, 0.15);\n",
              "      fill: #174EA6;\n",
              "    }\n",
              "\n",
              "    [theme=dark] .colab-df-convert {\n",
              "      background-color: #3B4455;\n",
              "      fill: #D2E3FC;\n",
              "    }\n",
              "\n",
              "    [theme=dark] .colab-df-convert:hover {\n",
              "      background-color: #434B5C;\n",
              "      box-shadow: 0px 1px 3px 1px rgba(0, 0, 0, 0.15);\n",
              "      filter: drop-shadow(0px 1px 2px rgba(0, 0, 0, 0.3));\n",
              "      fill: #FFFFFF;\n",
              "    }\n",
              "  </style>\n",
              "\n",
              "      <script>\n",
              "        const buttonEl =\n",
              "          document.querySelector('#df-988522b8-96b3-438b-a62e-5a88c2ed8e9f button.colab-df-convert');\n",
              "        buttonEl.style.display =\n",
              "          google.colab.kernel.accessAllowed ? 'block' : 'none';\n",
              "\n",
              "        async function convertToInteractive(key) {\n",
              "          const element = document.querySelector('#df-988522b8-96b3-438b-a62e-5a88c2ed8e9f');\n",
              "          const dataTable =\n",
              "            await google.colab.kernel.invokeFunction('convertToInteractive',\n",
              "                                                     [key], {});\n",
              "          if (!dataTable) return;\n",
              "\n",
              "          const docLinkHtml = 'Like what you see? Visit the ' +\n",
              "            '<a target=\"_blank\" href=https://colab.research.google.com/notebooks/data_table.ipynb>data table notebook</a>'\n",
              "            + ' to learn more about interactive tables.';\n",
              "          element.innerHTML = '';\n",
              "          dataTable['output_type'] = 'display_data';\n",
              "          await google.colab.output.renderOutput(dataTable, element);\n",
              "          const docLink = document.createElement('div');\n",
              "          docLink.innerHTML = docLinkHtml;\n",
              "          element.appendChild(docLink);\n",
              "        }\n",
              "      </script>\n",
              "    </div>\n",
              "  </div>\n",
              "  "
            ]
          },
          "metadata": {},
          "execution_count": 5
        }
      ]
    },
    {
      "cell_type": "code",
      "metadata": {
        "id": "G-0hvZaE4E91",
        "colab": {
          "base_uri": "https://localhost:8080/"
        },
        "outputId": "226a3379-bdcc-4547-8b19-5407115eb19e"
      },
      "source": [
        "#check properties of columns\n",
        "sw.info()"
      ],
      "execution_count": 6,
      "outputs": [
        {
          "output_type": "stream",
          "name": "stdout",
          "text": [
            "<class 'pandas.core.frame.DataFrame'>\n",
            "RangeIndex: 87 entries, 0 to 86\n",
            "Data columns (total 11 columns):\n",
            " #   Column      Non-Null Count  Dtype  \n",
            "---  ------      --------------  -----  \n",
            " 0   name        87 non-null     object \n",
            " 1   height      81 non-null     float64\n",
            " 2   mass        59 non-null     float64\n",
            " 3   hair_color  82 non-null     object \n",
            " 4   skin_color  87 non-null     object \n",
            " 5   eye_color   87 non-null     object \n",
            " 6   birth_year  43 non-null     float64\n",
            " 7   sex         83 non-null     object \n",
            " 8   gender      83 non-null     object \n",
            " 9   homeworld   77 non-null     object \n",
            " 10  species     83 non-null     object \n",
            "dtypes: float64(3), object(8)\n",
            "memory usage: 7.6+ KB\n"
          ]
        }
      ]
    },
    {
      "cell_type": "code",
      "metadata": {
        "id": "Dus13QqQ8LnR",
        "colab": {
          "base_uri": "https://localhost:8080/",
          "height": 300
        },
        "outputId": "1e5e67c8-c0e3-4caf-c9c5-66be682577ce"
      },
      "source": [
        "#obtain statistical measures for numerical columns\n",
        "sw.describe()"
      ],
      "execution_count": 7,
      "outputs": [
        {
          "output_type": "execute_result",
          "data": {
            "text/plain": [
              "           height         mass  birth_year\n",
              "count   81.000000    59.000000   43.000000\n",
              "mean   174.358025    97.311864   87.565116\n",
              "std     34.770429   169.457163  154.691439\n",
              "min     66.000000    15.000000    8.000000\n",
              "25%    167.000000    55.600000   35.000000\n",
              "50%    180.000000    79.000000   52.000000\n",
              "75%    191.000000    84.500000   72.000000\n",
              "max    264.000000  1358.000000  896.000000"
            ],
            "text/html": [
              "\n",
              "  <div id=\"df-80e9c0dc-dd34-478c-ac80-855364d5ee76\">\n",
              "    <div class=\"colab-df-container\">\n",
              "      <div>\n",
              "<style scoped>\n",
              "    .dataframe tbody tr th:only-of-type {\n",
              "        vertical-align: middle;\n",
              "    }\n",
              "\n",
              "    .dataframe tbody tr th {\n",
              "        vertical-align: top;\n",
              "    }\n",
              "\n",
              "    .dataframe thead th {\n",
              "        text-align: right;\n",
              "    }\n",
              "</style>\n",
              "<table border=\"1\" class=\"dataframe\">\n",
              "  <thead>\n",
              "    <tr style=\"text-align: right;\">\n",
              "      <th></th>\n",
              "      <th>height</th>\n",
              "      <th>mass</th>\n",
              "      <th>birth_year</th>\n",
              "    </tr>\n",
              "  </thead>\n",
              "  <tbody>\n",
              "    <tr>\n",
              "      <th>count</th>\n",
              "      <td>81.000000</td>\n",
              "      <td>59.000000</td>\n",
              "      <td>43.000000</td>\n",
              "    </tr>\n",
              "    <tr>\n",
              "      <th>mean</th>\n",
              "      <td>174.358025</td>\n",
              "      <td>97.311864</td>\n",
              "      <td>87.565116</td>\n",
              "    </tr>\n",
              "    <tr>\n",
              "      <th>std</th>\n",
              "      <td>34.770429</td>\n",
              "      <td>169.457163</td>\n",
              "      <td>154.691439</td>\n",
              "    </tr>\n",
              "    <tr>\n",
              "      <th>min</th>\n",
              "      <td>66.000000</td>\n",
              "      <td>15.000000</td>\n",
              "      <td>8.000000</td>\n",
              "    </tr>\n",
              "    <tr>\n",
              "      <th>25%</th>\n",
              "      <td>167.000000</td>\n",
              "      <td>55.600000</td>\n",
              "      <td>35.000000</td>\n",
              "    </tr>\n",
              "    <tr>\n",
              "      <th>50%</th>\n",
              "      <td>180.000000</td>\n",
              "      <td>79.000000</td>\n",
              "      <td>52.000000</td>\n",
              "    </tr>\n",
              "    <tr>\n",
              "      <th>75%</th>\n",
              "      <td>191.000000</td>\n",
              "      <td>84.500000</td>\n",
              "      <td>72.000000</td>\n",
              "    </tr>\n",
              "    <tr>\n",
              "      <th>max</th>\n",
              "      <td>264.000000</td>\n",
              "      <td>1358.000000</td>\n",
              "      <td>896.000000</td>\n",
              "    </tr>\n",
              "  </tbody>\n",
              "</table>\n",
              "</div>\n",
              "      <button class=\"colab-df-convert\" onclick=\"convertToInteractive('df-80e9c0dc-dd34-478c-ac80-855364d5ee76')\"\n",
              "              title=\"Convert this dataframe to an interactive table.\"\n",
              "              style=\"display:none;\">\n",
              "        \n",
              "  <svg xmlns=\"http://www.w3.org/2000/svg\" height=\"24px\"viewBox=\"0 0 24 24\"\n",
              "       width=\"24px\">\n",
              "    <path d=\"M0 0h24v24H0V0z\" fill=\"none\"/>\n",
              "    <path d=\"M18.56 5.44l.94 2.06.94-2.06 2.06-.94-2.06-.94-.94-2.06-.94 2.06-2.06.94zm-11 1L8.5 8.5l.94-2.06 2.06-.94-2.06-.94L8.5 2.5l-.94 2.06-2.06.94zm10 10l.94 2.06.94-2.06 2.06-.94-2.06-.94-.94-2.06-.94 2.06-2.06.94z\"/><path d=\"M17.41 7.96l-1.37-1.37c-.4-.4-.92-.59-1.43-.59-.52 0-1.04.2-1.43.59L10.3 9.45l-7.72 7.72c-.78.78-.78 2.05 0 2.83L4 21.41c.39.39.9.59 1.41.59.51 0 1.02-.2 1.41-.59l7.78-7.78 2.81-2.81c.8-.78.8-2.07 0-2.86zM5.41 20L4 18.59l7.72-7.72 1.47 1.35L5.41 20z\"/>\n",
              "  </svg>\n",
              "      </button>\n",
              "      \n",
              "  <style>\n",
              "    .colab-df-container {\n",
              "      display:flex;\n",
              "      flex-wrap:wrap;\n",
              "      gap: 12px;\n",
              "    }\n",
              "\n",
              "    .colab-df-convert {\n",
              "      background-color: #E8F0FE;\n",
              "      border: none;\n",
              "      border-radius: 50%;\n",
              "      cursor: pointer;\n",
              "      display: none;\n",
              "      fill: #1967D2;\n",
              "      height: 32px;\n",
              "      padding: 0 0 0 0;\n",
              "      width: 32px;\n",
              "    }\n",
              "\n",
              "    .colab-df-convert:hover {\n",
              "      background-color: #E2EBFA;\n",
              "      box-shadow: 0px 1px 2px rgba(60, 64, 67, 0.3), 0px 1px 3px 1px rgba(60, 64, 67, 0.15);\n",
              "      fill: #174EA6;\n",
              "    }\n",
              "\n",
              "    [theme=dark] .colab-df-convert {\n",
              "      background-color: #3B4455;\n",
              "      fill: #D2E3FC;\n",
              "    }\n",
              "\n",
              "    [theme=dark] .colab-df-convert:hover {\n",
              "      background-color: #434B5C;\n",
              "      box-shadow: 0px 1px 3px 1px rgba(0, 0, 0, 0.15);\n",
              "      filter: drop-shadow(0px 1px 2px rgba(0, 0, 0, 0.3));\n",
              "      fill: #FFFFFF;\n",
              "    }\n",
              "  </style>\n",
              "\n",
              "      <script>\n",
              "        const buttonEl =\n",
              "          document.querySelector('#df-80e9c0dc-dd34-478c-ac80-855364d5ee76 button.colab-df-convert');\n",
              "        buttonEl.style.display =\n",
              "          google.colab.kernel.accessAllowed ? 'block' : 'none';\n",
              "\n",
              "        async function convertToInteractive(key) {\n",
              "          const element = document.querySelector('#df-80e9c0dc-dd34-478c-ac80-855364d5ee76');\n",
              "          const dataTable =\n",
              "            await google.colab.kernel.invokeFunction('convertToInteractive',\n",
              "                                                     [key], {});\n",
              "          if (!dataTable) return;\n",
              "\n",
              "          const docLinkHtml = 'Like what you see? Visit the ' +\n",
              "            '<a target=\"_blank\" href=https://colab.research.google.com/notebooks/data_table.ipynb>data table notebook</a>'\n",
              "            + ' to learn more about interactive tables.';\n",
              "          element.innerHTML = '';\n",
              "          dataTable['output_type'] = 'display_data';\n",
              "          await google.colab.output.renderOutput(dataTable, element);\n",
              "          const docLink = document.createElement('div');\n",
              "          docLink.innerHTML = docLinkHtml;\n",
              "          element.appendChild(docLink);\n",
              "        }\n",
              "      </script>\n",
              "    </div>\n",
              "  </div>\n",
              "  "
            ]
          },
          "metadata": {},
          "execution_count": 7
        }
      ]
    },
    {
      "cell_type": "code",
      "metadata": {
        "id": "E5XVM8NXlPwN",
        "colab": {
          "base_uri": "https://localhost:8080/",
          "height": 175
        },
        "outputId": "69fdf862-21bf-4309-9756-f376acaca4ff"
      },
      "source": [
        "#obtain descriptive statistics for non-numeric columns\n",
        "sw.describe(include = object)"
      ],
      "execution_count": 8,
      "outputs": [
        {
          "output_type": "execute_result",
          "data": {
            "text/plain": [
              "                  name hair_color skin_color eye_color   sex     gender  \\\n",
              "count               87         82         87        87    83         83   \n",
              "unique              87         12         31        15     4          2   \n",
              "top     Luke Skywalker       none       fair     brown  male  masculine   \n",
              "freq                 1         37         17        21    60         66   \n",
              "\n",
              "       homeworld species  \n",
              "count         77      83  \n",
              "unique        48      37  \n",
              "top        Naboo   Human  \n",
              "freq          11      35  "
            ],
            "text/html": [
              "\n",
              "  <div id=\"df-42455cdf-d753-4184-895c-7f38ff252879\">\n",
              "    <div class=\"colab-df-container\">\n",
              "      <div>\n",
              "<style scoped>\n",
              "    .dataframe tbody tr th:only-of-type {\n",
              "        vertical-align: middle;\n",
              "    }\n",
              "\n",
              "    .dataframe tbody tr th {\n",
              "        vertical-align: top;\n",
              "    }\n",
              "\n",
              "    .dataframe thead th {\n",
              "        text-align: right;\n",
              "    }\n",
              "</style>\n",
              "<table border=\"1\" class=\"dataframe\">\n",
              "  <thead>\n",
              "    <tr style=\"text-align: right;\">\n",
              "      <th></th>\n",
              "      <th>name</th>\n",
              "      <th>hair_color</th>\n",
              "      <th>skin_color</th>\n",
              "      <th>eye_color</th>\n",
              "      <th>sex</th>\n",
              "      <th>gender</th>\n",
              "      <th>homeworld</th>\n",
              "      <th>species</th>\n",
              "    </tr>\n",
              "  </thead>\n",
              "  <tbody>\n",
              "    <tr>\n",
              "      <th>count</th>\n",
              "      <td>87</td>\n",
              "      <td>82</td>\n",
              "      <td>87</td>\n",
              "      <td>87</td>\n",
              "      <td>83</td>\n",
              "      <td>83</td>\n",
              "      <td>77</td>\n",
              "      <td>83</td>\n",
              "    </tr>\n",
              "    <tr>\n",
              "      <th>unique</th>\n",
              "      <td>87</td>\n",
              "      <td>12</td>\n",
              "      <td>31</td>\n",
              "      <td>15</td>\n",
              "      <td>4</td>\n",
              "      <td>2</td>\n",
              "      <td>48</td>\n",
              "      <td>37</td>\n",
              "    </tr>\n",
              "    <tr>\n",
              "      <th>top</th>\n",
              "      <td>Luke Skywalker</td>\n",
              "      <td>none</td>\n",
              "      <td>fair</td>\n",
              "      <td>brown</td>\n",
              "      <td>male</td>\n",
              "      <td>masculine</td>\n",
              "      <td>Naboo</td>\n",
              "      <td>Human</td>\n",
              "    </tr>\n",
              "    <tr>\n",
              "      <th>freq</th>\n",
              "      <td>1</td>\n",
              "      <td>37</td>\n",
              "      <td>17</td>\n",
              "      <td>21</td>\n",
              "      <td>60</td>\n",
              "      <td>66</td>\n",
              "      <td>11</td>\n",
              "      <td>35</td>\n",
              "    </tr>\n",
              "  </tbody>\n",
              "</table>\n",
              "</div>\n",
              "      <button class=\"colab-df-convert\" onclick=\"convertToInteractive('df-42455cdf-d753-4184-895c-7f38ff252879')\"\n",
              "              title=\"Convert this dataframe to an interactive table.\"\n",
              "              style=\"display:none;\">\n",
              "        \n",
              "  <svg xmlns=\"http://www.w3.org/2000/svg\" height=\"24px\"viewBox=\"0 0 24 24\"\n",
              "       width=\"24px\">\n",
              "    <path d=\"M0 0h24v24H0V0z\" fill=\"none\"/>\n",
              "    <path d=\"M18.56 5.44l.94 2.06.94-2.06 2.06-.94-2.06-.94-.94-2.06-.94 2.06-2.06.94zm-11 1L8.5 8.5l.94-2.06 2.06-.94-2.06-.94L8.5 2.5l-.94 2.06-2.06.94zm10 10l.94 2.06.94-2.06 2.06-.94-2.06-.94-.94-2.06-.94 2.06-2.06.94z\"/><path d=\"M17.41 7.96l-1.37-1.37c-.4-.4-.92-.59-1.43-.59-.52 0-1.04.2-1.43.59L10.3 9.45l-7.72 7.72c-.78.78-.78 2.05 0 2.83L4 21.41c.39.39.9.59 1.41.59.51 0 1.02-.2 1.41-.59l7.78-7.78 2.81-2.81c.8-.78.8-2.07 0-2.86zM5.41 20L4 18.59l7.72-7.72 1.47 1.35L5.41 20z\"/>\n",
              "  </svg>\n",
              "      </button>\n",
              "      \n",
              "  <style>\n",
              "    .colab-df-container {\n",
              "      display:flex;\n",
              "      flex-wrap:wrap;\n",
              "      gap: 12px;\n",
              "    }\n",
              "\n",
              "    .colab-df-convert {\n",
              "      background-color: #E8F0FE;\n",
              "      border: none;\n",
              "      border-radius: 50%;\n",
              "      cursor: pointer;\n",
              "      display: none;\n",
              "      fill: #1967D2;\n",
              "      height: 32px;\n",
              "      padding: 0 0 0 0;\n",
              "      width: 32px;\n",
              "    }\n",
              "\n",
              "    .colab-df-convert:hover {\n",
              "      background-color: #E2EBFA;\n",
              "      box-shadow: 0px 1px 2px rgba(60, 64, 67, 0.3), 0px 1px 3px 1px rgba(60, 64, 67, 0.15);\n",
              "      fill: #174EA6;\n",
              "    }\n",
              "\n",
              "    [theme=dark] .colab-df-convert {\n",
              "      background-color: #3B4455;\n",
              "      fill: #D2E3FC;\n",
              "    }\n",
              "\n",
              "    [theme=dark] .colab-df-convert:hover {\n",
              "      background-color: #434B5C;\n",
              "      box-shadow: 0px 1px 3px 1px rgba(0, 0, 0, 0.15);\n",
              "      filter: drop-shadow(0px 1px 2px rgba(0, 0, 0, 0.3));\n",
              "      fill: #FFFFFF;\n",
              "    }\n",
              "  </style>\n",
              "\n",
              "      <script>\n",
              "        const buttonEl =\n",
              "          document.querySelector('#df-42455cdf-d753-4184-895c-7f38ff252879 button.colab-df-convert');\n",
              "        buttonEl.style.display =\n",
              "          google.colab.kernel.accessAllowed ? 'block' : 'none';\n",
              "\n",
              "        async function convertToInteractive(key) {\n",
              "          const element = document.querySelector('#df-42455cdf-d753-4184-895c-7f38ff252879');\n",
              "          const dataTable =\n",
              "            await google.colab.kernel.invokeFunction('convertToInteractive',\n",
              "                                                     [key], {});\n",
              "          if (!dataTable) return;\n",
              "\n",
              "          const docLinkHtml = 'Like what you see? Visit the ' +\n",
              "            '<a target=\"_blank\" href=https://colab.research.google.com/notebooks/data_table.ipynb>data table notebook</a>'\n",
              "            + ' to learn more about interactive tables.';\n",
              "          element.innerHTML = '';\n",
              "          dataTable['output_type'] = 'display_data';\n",
              "          await google.colab.output.renderOutput(dataTable, element);\n",
              "          const docLink = document.createElement('div');\n",
              "          docLink.innerHTML = docLinkHtml;\n",
              "          element.appendChild(docLink);\n",
              "        }\n",
              "      </script>\n",
              "    </div>\n",
              "  </div>\n",
              "  "
            ]
          },
          "metadata": {},
          "execution_count": 8
        }
      ]
    },
    {
      "cell_type": "code",
      "metadata": {
        "id": "BH6yxwF06LbW",
        "colab": {
          "base_uri": "https://localhost:8080/"
        },
        "outputId": "c4c7aa55-c7fa-4a6f-a0e1-e9c3f7a90a15"
      },
      "source": [
        "#number of unique values for each non-numeric column\n",
        "print('Hair color: ', sw['hair_color'].unique())\n",
        "print('Skin color: ', sw['skin_color'].unique())\n",
        "print('Eye color: ', sw['skin_color'].unique())\n",
        "print('Sex: ', sw['sex'].unique())\n",
        "print('Gender: ', sw['gender'].unique())\n",
        "print('Homeworld: ', sw['homeworld'].unique())\n",
        "print('Species: ', sw['species'].unique())"
      ],
      "execution_count": 9,
      "outputs": [
        {
          "output_type": "stream",
          "name": "stdout",
          "text": [
            "Hair color:  ['blond' nan 'none' 'brown' 'brown, grey' 'black' 'auburn, white'\n",
            " 'auburn, grey' 'white' 'grey' 'auburn' 'blonde' 'unknown']\n",
            "Skin color:  ['fair' 'gold' 'white, blue' 'white' 'light' 'white, red' 'unknown'\n",
            " 'green' 'green-tan, brown' 'pale' 'metal' 'dark' 'brown mottle' 'brown'\n",
            " 'grey' 'mottled green' 'orange' 'blue, grey' 'grey, red' 'red' 'blue'\n",
            " 'grey, green, yellow' 'yellow' 'tan' 'fair, green, yellow' 'grey, blue'\n",
            " 'silver, red' 'green, grey' 'red, blue, white' 'brown, white' 'none']\n",
            "Eye color:  ['fair' 'gold' 'white, blue' 'white' 'light' 'white, red' 'unknown'\n",
            " 'green' 'green-tan, brown' 'pale' 'metal' 'dark' 'brown mottle' 'brown'\n",
            " 'grey' 'mottled green' 'orange' 'blue, grey' 'grey, red' 'red' 'blue'\n",
            " 'grey, green, yellow' 'yellow' 'tan' 'fair, green, yellow' 'grey, blue'\n",
            " 'silver, red' 'green, grey' 'red, blue, white' 'brown, white' 'none']\n",
            "Sex:  ['male' 'none' 'female' 'hermaphroditic' nan]\n",
            "Gender:  ['masculine' 'feminine' nan]\n",
            "Homeworld:  ['Tatooine' 'Naboo' 'Alderaan' 'Stewjon' 'Eriadu' 'Kashyyyk' 'Corellia'\n",
            " 'Rodia' 'Nal Hutta' 'Bestine IV' nan 'Kamino' 'Trandosha' 'Socorro'\n",
            " 'Bespin' 'Mon Cala' 'Chandrila' 'Endor' 'Sullust' 'Cato Neimoidia'\n",
            " 'Coruscant' 'Toydaria' 'Malastare' 'Dathomir' 'Ryloth' 'Vulpter'\n",
            " 'Troiken' 'Tund' 'Haruun Kal' 'Cerea' 'Glee Anselm' 'Iridonia' 'Iktotch'\n",
            " 'Quermia' 'Dorin' 'Champala' 'Geonosis' 'Mirial' 'Serenno' 'Concord Dawn'\n",
            " 'Zolan' 'Ojom' 'Aleen Minor' 'Skako' 'Muunilinst' 'Shili' 'Kalee'\n",
            " 'Umbara' 'Utapau']\n",
            "Species:  ['Human' 'Droid' 'Wookiee' 'Rodian' 'Hutt' \"Yoda's species\" 'Trandoshan'\n",
            " 'Mon Calamari' 'Ewok' 'Sullustan' 'Neimodian' 'Gungan' nan 'Toydarian'\n",
            " 'Dug' 'Zabrak' \"Twi'lek\" 'Vulptereen' 'Xexto' 'Toong' 'Cerean' 'Nautolan'\n",
            " 'Tholothian' 'Iktotchi' 'Quermian' 'Kel Dor' 'Chagrian' 'Geonosian'\n",
            " 'Mirialan' 'Clawdite' 'Besalisk' 'Kaminoan' 'Aleena' 'Skakoan' 'Muun'\n",
            " 'Togruta' 'Kaleesh' \"Pau'an\"]\n"
          ]
        }
      ]
    },
    {
      "cell_type": "code",
      "metadata": {
        "id": "gB_Q12HUFP-s",
        "colab": {
          "base_uri": "https://localhost:8080/"
        },
        "outputId": "4eb8df4d-bb48-4674-eaf4-860100519bc7"
      },
      "source": [
        "#briefly summarize\n",
        "print(\"Number of Data Points: \", sw.shape[0]*sw.shape[1])\n",
        "print(\"Total Missing values: {} = {:.2f}% of the Entire Dataset\".format(sw.isnull().sum().sum(), (sw.isnull().sum().sum() * 100) / (sw.shape[0] * sw.shape[1])))\n",
        "print(\"Number of Characters: \", sw['name'].nunique())\n",
        "print(\"Number of Species: \", sw['species'].nunique())"
      ],
      "execution_count": 24,
      "outputs": [
        {
          "output_type": "stream",
          "name": "stdout",
          "text": [
            "Number of Data Points:  957\n",
            "Total Missing values: 105 = 10.97% of the Entire Dataset\n",
            "Number of Characters:  87\n",
            "Number of Species:  37\n"
          ]
        }
      ]
    },
    {
      "cell_type": "markdown",
      "metadata": {
        "id": "pIJrMgjSTZRU"
      },
      "source": [
        "##2. Questions\n",
        "\n",
        "* What is the gender ratio of Star Wars characters?\n",
        "* What is the distribution of characters' heights by gender?\n",
        "* Who are the heaviest and lightest characters?\n",
        "* Do characters' heights and weights correlate?"
      ]
    },
    {
      "cell_type": "markdown",
      "metadata": {
        "id": "t_Lgxtx173SN"
      },
      "source": [
        "##3. Data Cleaning"
      ]
    },
    {
      "cell_type": "markdown",
      "metadata": {
        "id": "3vLtXt7C8AQ2"
      },
      "source": [
        "###3-1. Handling Missing Values"
      ]
    },
    {
      "cell_type": "code",
      "metadata": {
        "id": "kI-6N8XQ78Jw",
        "colab": {
          "base_uri": "https://localhost:8080/"
        },
        "outputId": "21c484bd-b068-4aa7-f700-a46850ce3a60"
      },
      "source": [
        "#identify columns where NULLs exist \n",
        "sw.isnull().any(axis = 0)"
      ],
      "execution_count": 13,
      "outputs": [
        {
          "output_type": "execute_result",
          "data": {
            "text/plain": [
              "name          False\n",
              "height         True\n",
              "mass           True\n",
              "hair_color     True\n",
              "skin_color    False\n",
              "eye_color     False\n",
              "birth_year     True\n",
              "sex            True\n",
              "gender         True\n",
              "homeworld      True\n",
              "species        True\n",
              "dtype: bool"
            ]
          },
          "metadata": {},
          "execution_count": 13
        }
      ]
    },
    {
      "cell_type": "code",
      "metadata": {
        "id": "PRVc91Hjqr5r",
        "colab": {
          "base_uri": "https://localhost:8080/"
        },
        "outputId": "dce8689e-b9f2-4ec7-deb4-c91aaca9f0d7"
      },
      "source": [
        "#check the number of NULLs per column\n",
        "sw.isnull().sum()"
      ],
      "execution_count": 15,
      "outputs": [
        {
          "output_type": "execute_result",
          "data": {
            "text/plain": [
              "name           0\n",
              "height         0\n",
              "mass           0\n",
              "hair_color     5\n",
              "skin_color     0\n",
              "eye_color      0\n",
              "birth_year    44\n",
              "sex            4\n",
              "gender         4\n",
              "homeworld     10\n",
              "species        4\n",
              "dtype: int64"
            ]
          },
          "metadata": {},
          "execution_count": 15
        }
      ]
    },
    {
      "cell_type": "code",
      "metadata": {
        "id": "RgfqlFND6yfi",
        "colab": {
          "base_uri": "https://localhost:8080/",
          "height": 206
        },
        "outputId": "ddca97eb-10e2-4f98-eaba-782cc5b403a5"
      },
      "source": [
        "#hair color, sex, gender, homeworld, species - since they are individual characteristics, it is meaningless to replace them with different values.\n",
        "#height, mass - fill missing values with 0\n",
        "sw['height'].fillna(0, inplace = True)\n",
        "sw['mass'].fillna(0, inplace = True)\n",
        "sw.head()"
      ],
      "execution_count": 14,
      "outputs": [
        {
          "output_type": "execute_result",
          "data": {
            "text/plain": [
              "             name  height   mass hair_color   skin_color eye_color  \\\n",
              "0  Luke Skywalker   172.0   77.0      blond         fair      blue   \n",
              "1           C-3PO   167.0   75.0        NaN         gold    yellow   \n",
              "2           R2-D2    96.0   32.0        NaN  white, blue       red   \n",
              "3     Darth Vader   202.0  136.0       none        white    yellow   \n",
              "4     Leia Organa   150.0   49.0      brown        light     brown   \n",
              "\n",
              "   birth_year     sex     gender homeworld species  \n",
              "0        19.0    male  masculine  Tatooine   Human  \n",
              "1       112.0    none  masculine  Tatooine   Droid  \n",
              "2        33.0    none  masculine     Naboo   Droid  \n",
              "3        41.9    male  masculine  Tatooine   Human  \n",
              "4        19.0  female   feminine  Alderaan   Human  "
            ],
            "text/html": [
              "\n",
              "  <div id=\"df-e7b31894-eb93-46fc-a9fd-f09e8bf7a550\">\n",
              "    <div class=\"colab-df-container\">\n",
              "      <div>\n",
              "<style scoped>\n",
              "    .dataframe tbody tr th:only-of-type {\n",
              "        vertical-align: middle;\n",
              "    }\n",
              "\n",
              "    .dataframe tbody tr th {\n",
              "        vertical-align: top;\n",
              "    }\n",
              "\n",
              "    .dataframe thead th {\n",
              "        text-align: right;\n",
              "    }\n",
              "</style>\n",
              "<table border=\"1\" class=\"dataframe\">\n",
              "  <thead>\n",
              "    <tr style=\"text-align: right;\">\n",
              "      <th></th>\n",
              "      <th>name</th>\n",
              "      <th>height</th>\n",
              "      <th>mass</th>\n",
              "      <th>hair_color</th>\n",
              "      <th>skin_color</th>\n",
              "      <th>eye_color</th>\n",
              "      <th>birth_year</th>\n",
              "      <th>sex</th>\n",
              "      <th>gender</th>\n",
              "      <th>homeworld</th>\n",
              "      <th>species</th>\n",
              "    </tr>\n",
              "  </thead>\n",
              "  <tbody>\n",
              "    <tr>\n",
              "      <th>0</th>\n",
              "      <td>Luke Skywalker</td>\n",
              "      <td>172.0</td>\n",
              "      <td>77.0</td>\n",
              "      <td>blond</td>\n",
              "      <td>fair</td>\n",
              "      <td>blue</td>\n",
              "      <td>19.0</td>\n",
              "      <td>male</td>\n",
              "      <td>masculine</td>\n",
              "      <td>Tatooine</td>\n",
              "      <td>Human</td>\n",
              "    </tr>\n",
              "    <tr>\n",
              "      <th>1</th>\n",
              "      <td>C-3PO</td>\n",
              "      <td>167.0</td>\n",
              "      <td>75.0</td>\n",
              "      <td>NaN</td>\n",
              "      <td>gold</td>\n",
              "      <td>yellow</td>\n",
              "      <td>112.0</td>\n",
              "      <td>none</td>\n",
              "      <td>masculine</td>\n",
              "      <td>Tatooine</td>\n",
              "      <td>Droid</td>\n",
              "    </tr>\n",
              "    <tr>\n",
              "      <th>2</th>\n",
              "      <td>R2-D2</td>\n",
              "      <td>96.0</td>\n",
              "      <td>32.0</td>\n",
              "      <td>NaN</td>\n",
              "      <td>white, blue</td>\n",
              "      <td>red</td>\n",
              "      <td>33.0</td>\n",
              "      <td>none</td>\n",
              "      <td>masculine</td>\n",
              "      <td>Naboo</td>\n",
              "      <td>Droid</td>\n",
              "    </tr>\n",
              "    <tr>\n",
              "      <th>3</th>\n",
              "      <td>Darth Vader</td>\n",
              "      <td>202.0</td>\n",
              "      <td>136.0</td>\n",
              "      <td>none</td>\n",
              "      <td>white</td>\n",
              "      <td>yellow</td>\n",
              "      <td>41.9</td>\n",
              "      <td>male</td>\n",
              "      <td>masculine</td>\n",
              "      <td>Tatooine</td>\n",
              "      <td>Human</td>\n",
              "    </tr>\n",
              "    <tr>\n",
              "      <th>4</th>\n",
              "      <td>Leia Organa</td>\n",
              "      <td>150.0</td>\n",
              "      <td>49.0</td>\n",
              "      <td>brown</td>\n",
              "      <td>light</td>\n",
              "      <td>brown</td>\n",
              "      <td>19.0</td>\n",
              "      <td>female</td>\n",
              "      <td>feminine</td>\n",
              "      <td>Alderaan</td>\n",
              "      <td>Human</td>\n",
              "    </tr>\n",
              "  </tbody>\n",
              "</table>\n",
              "</div>\n",
              "      <button class=\"colab-df-convert\" onclick=\"convertToInteractive('df-e7b31894-eb93-46fc-a9fd-f09e8bf7a550')\"\n",
              "              title=\"Convert this dataframe to an interactive table.\"\n",
              "              style=\"display:none;\">\n",
              "        \n",
              "  <svg xmlns=\"http://www.w3.org/2000/svg\" height=\"24px\"viewBox=\"0 0 24 24\"\n",
              "       width=\"24px\">\n",
              "    <path d=\"M0 0h24v24H0V0z\" fill=\"none\"/>\n",
              "    <path d=\"M18.56 5.44l.94 2.06.94-2.06 2.06-.94-2.06-.94-.94-2.06-.94 2.06-2.06.94zm-11 1L8.5 8.5l.94-2.06 2.06-.94-2.06-.94L8.5 2.5l-.94 2.06-2.06.94zm10 10l.94 2.06.94-2.06 2.06-.94-2.06-.94-.94-2.06-.94 2.06-2.06.94z\"/><path d=\"M17.41 7.96l-1.37-1.37c-.4-.4-.92-.59-1.43-.59-.52 0-1.04.2-1.43.59L10.3 9.45l-7.72 7.72c-.78.78-.78 2.05 0 2.83L4 21.41c.39.39.9.59 1.41.59.51 0 1.02-.2 1.41-.59l7.78-7.78 2.81-2.81c.8-.78.8-2.07 0-2.86zM5.41 20L4 18.59l7.72-7.72 1.47 1.35L5.41 20z\"/>\n",
              "  </svg>\n",
              "      </button>\n",
              "      \n",
              "  <style>\n",
              "    .colab-df-container {\n",
              "      display:flex;\n",
              "      flex-wrap:wrap;\n",
              "      gap: 12px;\n",
              "    }\n",
              "\n",
              "    .colab-df-convert {\n",
              "      background-color: #E8F0FE;\n",
              "      border: none;\n",
              "      border-radius: 50%;\n",
              "      cursor: pointer;\n",
              "      display: none;\n",
              "      fill: #1967D2;\n",
              "      height: 32px;\n",
              "      padding: 0 0 0 0;\n",
              "      width: 32px;\n",
              "    }\n",
              "\n",
              "    .colab-df-convert:hover {\n",
              "      background-color: #E2EBFA;\n",
              "      box-shadow: 0px 1px 2px rgba(60, 64, 67, 0.3), 0px 1px 3px 1px rgba(60, 64, 67, 0.15);\n",
              "      fill: #174EA6;\n",
              "    }\n",
              "\n",
              "    [theme=dark] .colab-df-convert {\n",
              "      background-color: #3B4455;\n",
              "      fill: #D2E3FC;\n",
              "    }\n",
              "\n",
              "    [theme=dark] .colab-df-convert:hover {\n",
              "      background-color: #434B5C;\n",
              "      box-shadow: 0px 1px 3px 1px rgba(0, 0, 0, 0.15);\n",
              "      filter: drop-shadow(0px 1px 2px rgba(0, 0, 0, 0.3));\n",
              "      fill: #FFFFFF;\n",
              "    }\n",
              "  </style>\n",
              "\n",
              "      <script>\n",
              "        const buttonEl =\n",
              "          document.querySelector('#df-e7b31894-eb93-46fc-a9fd-f09e8bf7a550 button.colab-df-convert');\n",
              "        buttonEl.style.display =\n",
              "          google.colab.kernel.accessAllowed ? 'block' : 'none';\n",
              "\n",
              "        async function convertToInteractive(key) {\n",
              "          const element = document.querySelector('#df-e7b31894-eb93-46fc-a9fd-f09e8bf7a550');\n",
              "          const dataTable =\n",
              "            await google.colab.kernel.invokeFunction('convertToInteractive',\n",
              "                                                     [key], {});\n",
              "          if (!dataTable) return;\n",
              "\n",
              "          const docLinkHtml = 'Like what you see? Visit the ' +\n",
              "            '<a target=\"_blank\" href=https://colab.research.google.com/notebooks/data_table.ipynb>data table notebook</a>'\n",
              "            + ' to learn more about interactive tables.';\n",
              "          element.innerHTML = '';\n",
              "          dataTable['output_type'] = 'display_data';\n",
              "          await google.colab.output.renderOutput(dataTable, element);\n",
              "          const docLink = document.createElement('div');\n",
              "          docLink.innerHTML = docLinkHtml;\n",
              "          element.appendChild(docLink);\n",
              "        }\n",
              "      </script>\n",
              "    </div>\n",
              "  </div>\n",
              "  "
            ]
          },
          "metadata": {},
          "execution_count": 14
        }
      ]
    },
    {
      "cell_type": "code",
      "metadata": {
        "id": "nG4tyoQuTSOe",
        "colab": {
          "base_uri": "https://localhost:8080/"
        },
        "outputId": "520b5d46-5901-464b-d963-2a7e33949912"
      },
      "source": [
        "#sex - distinguish 'none' and NaN \n",
        "print(sw[sw['sex'] == 'none'])\n",
        "print(sw[sw['sex'].isnull()])"
      ],
      "execution_count": 19,
      "outputs": [
        {
          "output_type": "stream",
          "name": "stdout",
          "text": [
            "Empty DataFrame\n",
            "Columns: [name, height, mass, hair_color, skin_color, eye_color, birth_year, sex, gender, homeworld, species]\n",
            "Index: []\n",
            "              name  height  mass hair_color skin_color eye_color  birth_year  \\\n",
            "36        Ric Oli?   183.0   0.0      brown       fair      blue         NaN   \n",
            "39   Quarsh Panaka   183.0   0.0      black       dark     brown        62.0   \n",
            "79       Sly Moore   178.0  48.0       none       pale     white         NaN   \n",
            "85  Captain Phasma     0.0   0.0    unknown    unknown   unknown         NaN   \n",
            "\n",
            "    sex gender homeworld species  \n",
            "36  NaN    NaN     Naboo     NaN  \n",
            "39  NaN    NaN     Naboo     NaN  \n",
            "79  NaN    NaN    Umbara     NaN  \n",
            "85  NaN    NaN       NaN     NaN  \n"
          ]
        }
      ]
    },
    {
      "cell_type": "code",
      "metadata": {
        "id": "cZ5cadM6UTAQ",
        "colab": {
          "base_uri": "https://localhost:8080/"
        },
        "outputId": "3a44b0a6-4332-4621-d4cd-b96f44232c1c"
      },
      "source": [
        "#the data values that are 'none' in the 'sex' column are all of the species 'Droid'\n",
        "#so change their content from 'none' to 'robot' in the column 'sex'\n",
        "sw['sex'][(sw['sex'] == 'none')] = 'robot'\n",
        "print('Sex: ', sw['sex'].unique())"
      ],
      "execution_count": 17,
      "outputs": [
        {
          "output_type": "stream",
          "name": "stdout",
          "text": [
            "Sex:  ['male' 'robot' 'female' 'hermaphroditic' nan]\n"
          ]
        },
        {
          "output_type": "stream",
          "name": "stderr",
          "text": [
            "<ipython-input-17-aedb8c37b719>:2: SettingWithCopyWarning: \n",
            "A value is trying to be set on a copy of a slice from a DataFrame\n",
            "\n",
            "See the caveats in the documentation: https://pandas.pydata.org/pandas-docs/stable/user_guide/indexing.html#returning-a-view-versus-a-copy\n",
            "  sw['sex'][(sw['sex'] == 'none')] = 'robot'\n"
          ]
        }
      ]
    },
    {
      "cell_type": "markdown",
      "metadata": {
        "id": "hbEQOtz_Nn-6"
      },
      "source": [
        "##4. EDA & Visualization"
      ]
    },
    {
      "cell_type": "markdown",
      "metadata": {
        "id": "Da91oKSnWxsV"
      },
      "source": [
        "###4-1. What is the gender ratio of Star Wars characters?"
      ]
    },
    {
      "cell_type": "code",
      "metadata": {
        "id": "Vu249uRYEkHv",
        "colab": {
          "base_uri": "https://localhost:8080/"
        },
        "outputId": "2477c814-754a-41cf-8f67-3830e85bebb3"
      },
      "source": [
        "#count the occurrences of each unique value; 'sex', 'gender'\n",
        "sw['gender'].value_counts()\n",
        "sw['sex'].value_counts()"
      ],
      "execution_count": 22,
      "outputs": [
        {
          "output_type": "execute_result",
          "data": {
            "text/plain": [
              "male              60\n",
              "female            16\n",
              "robot              6\n",
              "hermaphroditic     1\n",
              "Name: sex, dtype: int64"
            ]
          },
          "metadata": {},
          "execution_count": 22
        }
      ]
    },
    {
      "cell_type": "code",
      "metadata": {
        "id": "-ByHlT4UWvpQ",
        "colab": {
          "base_uri": "https://localhost:8080/",
          "height": 725
        },
        "outputId": "d6bddc0b-f634-4dd6-ed66-ce4aa4f00494"
      },
      "source": [
        "#data visualization; the gender ratio of Star Wars characters\n",
        "f, ax = plt.subplots(1, 2, figsize = (18, 8)) \n",
        "\n",
        "#sns.countplot\n",
        "sw['gender'].value_counts().plot.pie(ax = ax[0], autopct = '%1.0f%%', shadow = True) \n",
        "ax[0].set_title('Star Wars: Gender', size=18) \n",
        "ax[0].set_ylabel('') \n",
        "\n",
        "#sns.countplot\n",
        "sns.countplot(y = 'sex', data = sw, ax = ax[1])\n",
        "ax[1].set_title('Star Wars: Sex', size = 18) \n",
        "\n",
        "plt.show()"
      ],
      "execution_count": 26,
      "outputs": [
        {
          "output_type": "display_data",
          "data": {
            "text/plain": [
              "<Figure size 1800x800 with 2 Axes>"
            ],
            "image/png": "[encoded data removed]"
          },
          "metadata": {}
        }
      ]
    },
    {
      "cell_type": "markdown",
      "metadata": {
        "id": "C2AEfyjvSMQj"
      },
      "source": [
        "###4-2. What is the distribution of characters' heights by gender?"
      ]
    },
    {
      "cell_type": "code",
      "metadata": {
        "id": "zbxh0io5mXJ2",
        "colab": {
          "base_uri": "https://localhost:8080/"
        },
        "outputId": "371b9968-7a4f-483a-8d3c-71d7c4e2c9e1"
      },
      "source": [
        "#obtain descriptive statistics for the 'height' column\n",
        "#check min and max values\n",
        "sw['height'].describe()"
      ],
      "execution_count": 27,
      "outputs": [
        {
          "output_type": "execute_result",
          "data": {
            "text/plain": [
              "count     87.000000\n",
              "mean     162.333333\n",
              "std       55.671726\n",
              "min        0.000000\n",
              "25%      164.000000\n",
              "50%      178.000000\n",
              "75%      190.500000\n",
              "max      264.000000\n",
              "Name: height, dtype: float64"
            ]
          },
          "metadata": {},
          "execution_count": 27
        }
      ]
    },
    {
      "cell_type": "code",
      "metadata": {
        "id": "Yo27gESEmqkP",
        "colab": {
          "base_uri": "https://localhost:8080/"
        },
        "outputId": "d684ed35-193f-4767-a4b9-7dcf8f7e555d"
      },
      "source": [
        "#print skewness and kurtosis \n",
        "print(\"Skewness: %f\" % sw['height'].skew())\n",
        "print(\"Kurtosis: %f\" % sw['height'].kurt())"
      ],
      "execution_count": 29,
      "outputs": [
        {
          "output_type": "stream",
          "name": "stdout",
          "text": [
            "Skewness: -1.760878\n",
            "Kurtosis: 2.927697\n"
          ]
        }
      ]
    },
    {
      "cell_type": "code",
      "metadata": {
        "id": "nlTtSH7vVduW",
        "colab": {
          "base_uri": "https://localhost:8080/",
          "height": 81
        },
        "outputId": "f986ddb9-ba73-4bba-8047-d7f1cefdc869"
      },
      "source": [
        "#only one piece of data for'hermaphroditic'; can not get a probability distribution\n",
        "sw[sw['sex'] == 'hermaphroditic'].head()"
      ],
      "execution_count": 30,
      "outputs": [
        {
          "output_type": "execute_result",
          "data": {
            "text/plain": [
              "                     name  height    mass hair_color        skin_color  \\\n",
              "15  Jabba Desilijic Tiure   175.0  1358.0        NaN  green-tan, brown   \n",
              "\n",
              "   eye_color  birth_year             sex     gender  homeworld species  \n",
              "15    orange       600.0  hermaphroditic  masculine  Nal Hutta    Hutt  "
            ],
            "text/html": [
              "\n",
              "  <div id=\"df-22098683-c3ae-4ca2-b5c5-74fcf3fc9c27\">\n",
              "    <div class=\"colab-df-container\">\n",
              "      <div>\n",
              "<style scoped>\n",
              "    .dataframe tbody tr th:only-of-type {\n",
              "        vertical-align: middle;\n",
              "    }\n",
              "\n",
              "    .dataframe tbody tr th {\n",
              "        vertical-align: top;\n",
              "    }\n",
              "\n",
              "    .dataframe thead th {\n",
              "        text-align: right;\n",
              "    }\n",
              "</style>\n",
              "<table border=\"1\" class=\"dataframe\">\n",
              "  <thead>\n",
              "    <tr style=\"text-align: right;\">\n",
              "      <th></th>\n",
              "      <th>name</th>\n",
              "      <th>height</th>\n",
              "      <th>mass</th>\n",
              "      <th>hair_color</th>\n",
              "      <th>skin_color</th>\n",
              "      <th>eye_color</th>\n",
              "      <th>birth_year</th>\n",
              "      <th>sex</th>\n",
              "      <th>gender</th>\n",
              "      <th>homeworld</th>\n",
              "      <th>species</th>\n",
              "    </tr>\n",
              "  </thead>\n",
              "  <tbody>\n",
              "    <tr>\n",
              "      <th>15</th>\n",
              "      <td>Jabba Desilijic Tiure</td>\n",
              "      <td>175.0</td>\n",
              "      <td>1358.0</td>\n",
              "      <td>NaN</td>\n",
              "      <td>green-tan, brown</td>\n",
              "      <td>orange</td>\n",
              "      <td>600.0</td>\n",
              "      <td>hermaphroditic</td>\n",
              "      <td>masculine</td>\n",
              "      <td>Nal Hutta</td>\n",
              "      <td>Hutt</td>\n",
              "    </tr>\n",
              "  </tbody>\n",
              "</table>\n",
              "</div>\n",
              "      <button class=\"colab-df-convert\" onclick=\"convertToInteractive('df-22098683-c3ae-4ca2-b5c5-74fcf3fc9c27')\"\n",
              "              title=\"Convert this dataframe to an interactive table.\"\n",
              "              style=\"display:none;\">\n",
              "        \n",
              "  <svg xmlns=\"http://www.w3.org/2000/svg\" height=\"24px\"viewBox=\"0 0 24 24\"\n",
              "       width=\"24px\">\n",
              "    <path d=\"M0 0h24v24H0V0z\" fill=\"none\"/>\n",
              "    <path d=\"M18.56 5.44l.94 2.06.94-2.06 2.06-.94-2.06-.94-.94-2.06-.94 2.06-2.06.94zm-11 1L8.5 8.5l.94-2.06 2.06-.94-2.06-.94L8.5 2.5l-.94 2.06-2.06.94zm10 10l.94 2.06.94-2.06 2.06-.94-2.06-.94-.94-2.06-.94 2.06-2.06.94z\"/><path d=\"M17.41 7.96l-1.37-1.37c-.4-.4-.92-.59-1.43-.59-.52 0-1.04.2-1.43.59L10.3 9.45l-7.72 7.72c-.78.78-.78 2.05 0 2.83L4 21.41c.39.39.9.59 1.41.59.51 0 1.02-.2 1.41-.59l7.78-7.78 2.81-2.81c.8-.78.8-2.07 0-2.86zM5.41 20L4 18.59l7.72-7.72 1.47 1.35L5.41 20z\"/>\n",
              "  </svg>\n",
              "      </button>\n",
              "      \n",
              "  <style>\n",
              "    .colab-df-container {\n",
              "      display:flex;\n",
              "      flex-wrap:wrap;\n",
              "      gap: 12px;\n",
              "    }\n",
              "\n",
              "    .colab-df-convert {\n",
              "      background-color: #E8F0FE;\n",
              "      border: none;\n",
              "      border-radius: 50%;\n",
              "      cursor: pointer;\n",
              "      display: none;\n",
              "      fill: #1967D2;\n",
              "      height: 32px;\n",
              "      padding: 0 0 0 0;\n",
              "      width: 32px;\n",
              "    }\n",
              "\n",
              "    .colab-df-convert:hover {\n",
              "      background-color: #E2EBFA;\n",
              "      box-shadow: 0px 1px 2px rgba(60, 64, 67, 0.3), 0px 1px 3px 1px rgba(60, 64, 67, 0.15);\n",
              "      fill: #174EA6;\n",
              "    }\n",
              "\n",
              "    [theme=dark] .colab-df-convert {\n",
              "      background-color: #3B4455;\n",
              "      fill: #D2E3FC;\n",
              "    }\n",
              "\n",
              "    [theme=dark] .colab-df-convert:hover {\n",
              "      background-color: #434B5C;\n",
              "      box-shadow: 0px 1px 3px 1px rgba(0, 0, 0, 0.15);\n",
              "      filter: drop-shadow(0px 1px 2px rgba(0, 0, 0, 0.3));\n",
              "      fill: #FFFFFF;\n",
              "    }\n",
              "  </style>\n",
              "\n",
              "      <script>\n",
              "        const buttonEl =\n",
              "          document.querySelector('#df-22098683-c3ae-4ca2-b5c5-74fcf3fc9c27 button.colab-df-convert');\n",
              "        buttonEl.style.display =\n",
              "          google.colab.kernel.accessAllowed ? 'block' : 'none';\n",
              "\n",
              "        async function convertToInteractive(key) {\n",
              "          const element = document.querySelector('#df-22098683-c3ae-4ca2-b5c5-74fcf3fc9c27');\n",
              "          const dataTable =\n",
              "            await google.colab.kernel.invokeFunction('convertToInteractive',\n",
              "                                                     [key], {});\n",
              "          if (!dataTable) return;\n",
              "\n",
              "          const docLinkHtml = 'Like what you see? Visit the ' +\n",
              "            '<a target=\"_blank\" href=https://colab.research.google.com/notebooks/data_table.ipynb>data table notebook</a>'\n",
              "            + ' to learn more about interactive tables.';\n",
              "          element.innerHTML = '';\n",
              "          dataTable['output_type'] = 'display_data';\n",
              "          await google.colab.output.renderOutput(dataTable, element);\n",
              "          const docLink = document.createElement('div');\n",
              "          docLink.innerHTML = docLinkHtml;\n",
              "          element.appendChild(docLink);\n",
              "        }\n",
              "      </script>\n",
              "    </div>\n",
              "  </div>\n",
              "  "
            ]
          },
          "metadata": {},
          "execution_count": 30
        }
      ]
    },
    {
      "cell_type": "code",
      "metadata": {
        "id": "UkRl3_9MNgPg",
        "colab": {
          "base_uri": "https://localhost:8080/",
          "height": 1000
        },
        "outputId": "27ad27c7-851c-4565-c701-e7aa0e176406"
      },
      "source": [
        "#data visualization; distribution of height data for Star Wars characters by gender\n",
        "#excluded 'hermaphroditic' \n",
        "\n",
        "fig, ax = plt.subplots(1, 2, figsize = (16, 5))\n",
        "\n",
        "#sns.distplot\n",
        "sns.distplot(sw[sw['sex'] == 'male']['height'], ax = ax[0])\n",
        "sns.distplot(sw[sw['sex'] == 'female']['height'], ax = ax[0])\n",
        "sns.distplot(sw[sw['sex'] == 'robot']['height'], ax = ax[0])\n",
        "ax[0].legend(['male','female','robot'])\n",
        "\n",
        "#sns.kdeplot\n",
        "sns.kdeplot(sw[sw['gender'] == 'masculine']['height'], ax = ax[1])\n",
        "sns.kdeplot(sw[sw['gender'] == 'feminine']['height'], ax = ax[1])\n",
        "ax[1].legend(['masculine','feminine'])\n",
        "\n",
        "plt.show()\n"
      ],
      "execution_count": 34,
      "outputs": [
        {
          "output_type": "stream",
          "name": "stderr",
          "text": [
            "<ipython-input-34-a0f130598398>:7: UserWarning: \n",
            "\n",
            "`distplot` is a deprecated function and will be removed in seaborn v0.14.0.\n",
            "\n",
            "Please adapt your code to use either `displot` (a figure-level function with\n",
            "similar flexibility) or `histplot` (an axes-level function for histograms).\n",
            "\n",
            "For a guide to updating your code to use the new functions, please see\n",
            "https://gist.github.com/mwaskom/de44147ed2974457ad6372750bbe5751\n",
            "\n",
            "  sns.distplot(sw[sw['sex'] == 'male']['height'], ax = ax[0])\n",
            "<ipython-input-34-a0f130598398>:8: UserWarning: \n",
            "\n",
            "`distplot` is a deprecated function and will be removed in seaborn v0.14.0.\n",
            "\n",
            "Please adapt your code to use either `displot` (a figure-level function with\n",
            "similar flexibility) or `histplot` (an axes-level function for histograms).\n",
            "\n",
            "For a guide to updating your code to use the new functions, please see\n",
            "https://gist.github.com/mwaskom/de44147ed2974457ad6372750bbe5751\n",
            "\n",
            "  sns.distplot(sw[sw['sex'] == 'female']['height'], ax = ax[0])\n",
            "<ipython-input-34-a0f130598398>:9: UserWarning: \n",
            "\n",
            "`distplot` is a deprecated function and will be removed in seaborn v0.14.0.\n",
            "\n",
            "Please adapt your code to use either `displot` (a figure-level function with\n",
            "similar flexibility) or `histplot` (an axes-level function for histograms).\n",
            "\n",
            "For a guide to updating your code to use the new functions, please see\n",
            "https://gist.github.com/mwaskom/de44147ed2974457ad6372750bbe5751\n",
            "\n",
            "  sns.distplot(sw[sw['sex'] == 'robot']['height'], ax = ax[0])\n"
          ]
        },
        {
          "output_type": "display_data",
          "data": {
            "text/plain": [
              "<Figure size 1600x500 with 2 Axes>"
            ],
            "image/png": "[encoded data removed]"
          },
          "metadata": {}
        }
      ]
    },
    {
      "cell_type": "markdown",
      "metadata": {
        "id": "8h0lRuwqIPz8"
      },
      "source": [
        "###4-3. Who are the heaviest and lightest characters?"
      ]
    },
    {
      "cell_type": "code",
      "metadata": {
        "id": "pr039q8SMSqb",
        "colab": {
          "base_uri": "https://localhost:8080/"
        },
        "outputId": "a42473c5-199f-4c3f-8758-89fc928351d6"
      },
      "source": [
        "#find the lightest character\n",
        "notz = sw[sw['mass'] != 0]  #exclude data with a weight of 0\n",
        "min(notz['mass'])"
      ],
      "execution_count": 35,
      "outputs": [
        {
          "output_type": "execute_result",
          "data": {
            "text/plain": [
              "15.0"
            ]
          },
          "metadata": {},
          "execution_count": 35
        }
      ]
    },
    {
      "cell_type": "code",
      "metadata": {
        "id": "9yFDO0AKIPQt",
        "colab": {
          "base_uri": "https://localhost:8080/"
        },
        "outputId": "a03726b8-f9a0-4509-dd67-031a6484b213"
      },
      "source": [
        "#print heaviest and lightest characters\n",
        "print(\"{}의 몸무게가 {} (으)로 가장 가볍다 \".format(notz[notz['mass'] == min(notz['mass'])]['name'].values, min(notz['mass'])))\n",
        "print(\"{}의 몸무게가 {} (으)로 가장 무겁다 \".format(notz[notz['mass'] == max(notz['mass'])]['name'].values, max(notz['mass'])))"
      ],
      "execution_count": 37,
      "outputs": [
        {
          "output_type": "stream",
          "name": "stdout",
          "text": [
            "['Ratts Tyerell']의 몸무게가 15.0 (으)로 가장 가볍다 \n",
            "['Jabba Desilijic Tiure']의 몸무게가 1358.0 (으)로 가장 무겁다 \n"
          ]
        }
      ]
    },
    {
      "cell_type": "markdown",
      "metadata": {
        "id": "4yq6VQQ3WUWl"
      },
      "source": [
        "###4-4. Do Star Wars characters' heights and weights correlate?"
      ]
    },
    {
      "cell_type": "code",
      "metadata": {
        "id": "r1EtWq4zS1dL",
        "colab": {
          "base_uri": "https://localhost:8080/",
          "height": 1000
        },
        "outputId": "6322ec4e-b143-4022-f407-4f4efa5d3bd0"
      },
      "source": [
        "#calculate the average weight of each Star Wars per species with Groupby function\n",
        "weight = sw[['species', 'mass']].groupby(['species'], as_index = True).mean()\n",
        "weight"
      ],
      "execution_count": 38,
      "outputs": [
        {
          "output_type": "execute_result",
          "data": {
            "text/plain": [
              "                       mass\n",
              "species                    \n",
              "Aleena            15.000000\n",
              "Besalisk         102.000000\n",
              "Cerean            82.000000\n",
              "Chagrian           0.000000\n",
              "Clawdite          55.000000\n",
              "Droid             46.500000\n",
              "Dug               40.000000\n",
              "Ewok              20.000000\n",
              "Geonosian         80.000000\n",
              "Gungan            49.333333\n",
              "Human             52.034286\n",
              "Hutt            1358.000000\n",
              "Iktotchi           0.000000\n",
              "Kaleesh          159.000000\n",
              "Kaminoan          44.000000\n",
              "Kel Dor           80.000000\n",
              "Mirialan          53.100000\n",
              "Mon Calamari      83.000000\n",
              "Muun               0.000000\n",
              "Nautolan          87.000000\n",
              "Neimodian         90.000000\n",
              "Pau'an            80.000000\n",
              "Quermian           0.000000\n",
              "Rodian            74.000000\n",
              "Skakoan           48.000000\n",
              "Sullustan         68.000000\n",
              "Tholothian        50.000000\n",
              "Togruta           57.000000\n",
              "Toong             65.000000\n",
              "Toydarian          0.000000\n",
              "Trandoshan       113.000000\n",
              "Twi'lek           27.500000\n",
              "Vulptereen        45.000000\n",
              "Wookiee          124.000000\n",
              "Xexto              0.000000\n",
              "Yoda's species    17.000000\n",
              "Zabrak            40.000000"
            ],
            "text/html": [
              "\n",
              "  <div id=\"df-d895bf6a-315f-4f5e-985c-55ce5c443f29\">\n",
              "    <div class=\"colab-df-container\">\n",
              "      <div>\n",
              "<style scoped>\n",
              "    .dataframe tbody tr th:only-of-type {\n",
              "        vertical-align: middle;\n",
              "    }\n",
              "\n",
              "    .dataframe tbody tr th {\n",
              "        vertical-align: top;\n",
              "    }\n",
              "\n",
              "    .dataframe thead th {\n",
              "        text-align: right;\n",
              "    }\n",
              "</style>\n",
              "<table border=\"1\" class=\"dataframe\">\n",
              "  <thead>\n",
              "    <tr style=\"text-align: right;\">\n",
              "      <th></th>\n",
              "      <th>mass</th>\n",
              "    </tr>\n",
              "    <tr>\n",
              "      <th>species</th>\n",
              "      <th></th>\n",
              "    </tr>\n",
              "  </thead>\n",
              "  <tbody>\n",
              "    <tr>\n",
              "      <th>Aleena</th>\n",
              "      <td>15.000000</td>\n",
              "    </tr>\n",
              "    <tr>\n",
              "      <th>Besalisk</th>\n",
              "      <td>102.000000</td>\n",
              "    </tr>\n",
              "    <tr>\n",
              "      <th>Cerean</th>\n",
              "      <td>82.000000</td>\n",
              "    </tr>\n",
              "    <tr>\n",
              "      <th>Chagrian</th>\n",
              "      <td>0.000000</td>\n",
              "    </tr>\n",
              "    <tr>\n",
              "      <th>Clawdite</th>\n",
              "      <td>55.000000</td>\n",
              "    </tr>\n",
              "    <tr>\n",
              "      <th>Droid</th>\n",
              "      <td>46.500000</td>\n",
              "    </tr>\n",
              "    <tr>\n",
              "      <th>Dug</th>\n",
              "      <td>40.000000</td>\n",
              "    </tr>\n",
              "    <tr>\n",
              "      <th>Ewok</th>\n",
              "      <td>20.000000</td>\n",
              "    </tr>\n",
              "    <tr>\n",
              "      <th>Geonosian</th>\n",
              "      <td>80.000000</td>\n",
              "    </tr>\n",
              "    <tr>\n",
              "      <th>Gungan</th>\n",
              "      <td>49.333333</td>\n",
              "    </tr>\n",
              "    <tr>\n",
              "      <th>Human</th>\n",
              "      <td>52.034286</td>\n",
              "    </tr>\n",
              "    <tr>\n",
              "      <th>Hutt</th>\n",
              "      <td>1358.000000</td>\n",
              "    </tr>\n",
              "    <tr>\n",
              "      <th>Iktotchi</th>\n",
              "      <td>0.000000</td>\n",
              "    </tr>\n",
              "    <tr>\n",
              "      <th>Kaleesh</th>\n",
              "      <td>159.000000</td>\n",
              "    </tr>\n",
              "    <tr>\n",
              "      <th>Kaminoan</th>\n",
              "      <td>44.000000</td>\n",
              "    </tr>\n",
              "    <tr>\n",
              "      <th>Kel Dor</th>\n",
              "      <td>80.000000</td>\n",
              "    </tr>\n",
              "    <tr>\n",
              "      <th>Mirialan</th>\n",
              "      <td>53.100000</td>\n",
              "    </tr>\n",
              "    <tr>\n",
              "      <th>Mon Calamari</th>\n",
              "      <td>83.000000</td>\n",
              "    </tr>\n",
              "    <tr>\n",
              "      <th>Muun</th>\n",
              "      <td>0.000000</td>\n",
              "    </tr>\n",
              "    <tr>\n",
              "      <th>Nautolan</th>\n",
              "      <td>87.000000</td>\n",
              "    </tr>\n",
              "    <tr>\n",
              "      <th>Neimodian</th>\n",
              "      <td>90.000000</td>\n",
              "    </tr>\n",
              "    <tr>\n",
              "      <th>Pau'an</th>\n",
              "      <td>80.000000</td>\n",
              "    </tr>\n",
              "    <tr>\n",
              "      <th>Quermian</th>\n",
              "      <td>0.000000</td>\n",
              "    </tr>\n",
              "    <tr>\n",
              "      <th>Rodian</th>\n",
              "      <td>74.000000</td>\n",
              "    </tr>\n",
              "    <tr>\n",
              "      <th>Skakoan</th>\n",
              "      <td>48.000000</td>\n",
              "    </tr>\n",
              "    <tr>\n",
              "      <th>Sullustan</th>\n",
              "      <td>68.000000</td>\n",
              "    </tr>\n",
              "    <tr>\n",
              "      <th>Tholothian</th>\n",
              "      <td>50.000000</td>\n",
              "    </tr>\n",
              "    <tr>\n",
              "      <th>Togruta</th>\n",
              "      <td>57.000000</td>\n",
              "    </tr>\n",
              "    <tr>\n",
              "      <th>Toong</th>\n",
              "      <td>65.000000</td>\n",
              "    </tr>\n",
              "    <tr>\n",
              "      <th>Toydarian</th>\n",
              "      <td>0.000000</td>\n",
              "    </tr>\n",
              "    <tr>\n",
              "      <th>Trandoshan</th>\n",
              "      <td>113.000000</td>\n",
              "    </tr>\n",
              "    <tr>\n",
              "      <th>Twi'lek</th>\n",
              "      <td>27.500000</td>\n",
              "    </tr>\n",
              "    <tr>\n",
              "      <th>Vulptereen</th>\n",
              "      <td>45.000000</td>\n",
              "    </tr>\n",
              "    <tr>\n",
              "      <th>Wookiee</th>\n",
              "      <td>124.000000</td>\n",
              "    </tr>\n",
              "    <tr>\n",
              "      <th>Xexto</th>\n",
              "      <td>0.000000</td>\n",
              "    </tr>\n",
              "    <tr>\n",
              "      <th>Yoda's species</th>\n",
              "      <td>17.000000</td>\n",
              "    </tr>\n",
              "    <tr>\n",
              "      <th>Zabrak</th>\n",
              "      <td>40.000000</td>\n",
              "    </tr>\n",
              "  </tbody>\n",
              "</table>\n",
              "</div>\n",
              "      <button class=\"colab-df-convert\" onclick=\"convertToInteractive('df-d895bf6a-315f-4f5e-985c-55ce5c443f29')\"\n",
              "              title=\"Convert this dataframe to an interactive table.\"\n",
              "              style=\"display:none;\">\n",
              "        \n",
              "  <svg xmlns=\"http://www.w3.org/2000/svg\" height=\"24px\"viewBox=\"0 0 24 24\"\n",
              "       width=\"24px\">\n",
              "    <path d=\"M0 0h24v24H0V0z\" fill=\"none\"/>\n",
              "    <path d=\"M18.56 5.44l.94 2.06.94-2.06 2.06-.94-2.06-.94-.94-2.06-.94 2.06-2.06.94zm-11 1L8.5 8.5l.94-2.06 2.06-.94-2.06-.94L8.5 2.5l-.94 2.06-2.06.94zm10 10l.94 2.06.94-2.06 2.06-.94-2.06-.94-.94-2.06-.94 2.06-2.06.94z\"/><path d=\"M17.41 7.96l-1.37-1.37c-.4-.4-.92-.59-1.43-.59-.52 0-1.04.2-1.43.59L10.3 9.45l-7.72 7.72c-.78.78-.78 2.05 0 2.83L4 21.41c.39.39.9.59 1.41.59.51 0 1.02-.2 1.41-.59l7.78-7.78 2.81-2.81c.8-.78.8-2.07 0-2.86zM5.41 20L4 18.59l7.72-7.72 1.47 1.35L5.41 20z\"/>\n",
              "  </svg>\n",
              "      </button>\n",
              "      \n",
              "  <style>\n",
              "    .colab-df-container {\n",
              "      display:flex;\n",
              "      flex-wrap:wrap;\n",
              "      gap: 12px;\n",
              "    }\n",
              "\n",
              "    .colab-df-convert {\n",
              "      background-color: #E8F0FE;\n",
              "      border: none;\n",
              "      border-radius: 50%;\n",
              "      cursor: pointer;\n",
              "      display: none;\n",
              "      fill: #1967D2;\n",
              "      height: 32px;\n",
              "      padding: 0 0 0 0;\n",
              "      width: 32px;\n",
              "    }\n",
              "\n",
              "    .colab-df-convert:hover {\n",
              "      background-color: #E2EBFA;\n",
              "      box-shadow: 0px 1px 2px rgba(60, 64, 67, 0.3), 0px 1px 3px 1px rgba(60, 64, 67, 0.15);\n",
              "      fill: #174EA6;\n",
              "    }\n",
              "\n",
              "    [theme=dark] .colab-df-convert {\n",
              "      background-color: #3B4455;\n",
              "      fill: #D2E3FC;\n",
              "    }\n",
              "\n",
              "    [theme=dark] .colab-df-convert:hover {\n",
              "      background-color: #434B5C;\n",
              "      box-shadow: 0px 1px 3px 1px rgba(0, 0, 0, 0.15);\n",
              "      filter: drop-shadow(0px 1px 2px rgba(0, 0, 0, 0.3));\n",
              "      fill: #FFFFFF;\n",
              "    }\n",
              "  </style>\n",
              "\n",
              "      <script>\n",
              "        const buttonEl =\n",
              "          document.querySelector('#df-d895bf6a-315f-4f5e-985c-55ce5c443f29 button.colab-df-convert');\n",
              "        buttonEl.style.display =\n",
              "          google.colab.kernel.accessAllowed ? 'block' : 'none';\n",
              "\n",
              "        async function convertToInteractive(key) {\n",
              "          const element = document.querySelector('#df-d895bf6a-315f-4f5e-985c-55ce5c443f29');\n",
              "          const dataTable =\n",
              "            await google.colab.kernel.invokeFunction('convertToInteractive',\n",
              "                                                     [key], {});\n",
              "          if (!dataTable) return;\n",
              "\n",
              "          const docLinkHtml = 'Like what you see? Visit the ' +\n",
              "            '<a target=\"_blank\" href=https://colab.research.google.com/notebooks/data_table.ipynb>data table notebook</a>'\n",
              "            + ' to learn more about interactive tables.';\n",
              "          element.innerHTML = '';\n",
              "          dataTable['output_type'] = 'display_data';\n",
              "          await google.colab.output.renderOutput(dataTable, element);\n",
              "          const docLink = document.createElement('div');\n",
              "          docLink.innerHTML = docLinkHtml;\n",
              "          element.appendChild(docLink);\n",
              "        }\n",
              "      </script>\n",
              "    </div>\n",
              "  </div>\n",
              "  "
            ]
          },
          "metadata": {},
          "execution_count": 38
        }
      ]
    },
    {
      "cell_type": "code",
      "metadata": {
        "id": "zqrwt6C_eJsu",
        "colab": {
          "base_uri": "https://localhost:8080/",
          "height": 587
        },
        "outputId": "1e5617f3-26e4-4045-9696-7ab6763f2449"
      },
      "source": [
        "#graph the top 10 species by weight\n",
        "weight['mass'].sort_values(ascending = False).head(10).plot.bar(color = 'red')\n",
        "\n",
        "plt.xticks(rotation = 45)\n",
        "plt.show()"
      ],
      "execution_count": 44,
      "outputs": [
        {
          "output_type": "display_data",
          "data": {
            "text/plain": [
              "<Figure size 800x550 with 1 Axes>"
            ],
            "image/png": "[encoded data removed]"
          },
          "metadata": {}
        }
      ]
    },
    {
      "cell_type": "code",
      "metadata": {
        "id": "0b0HQVDbKp3t",
        "colab": {
          "base_uri": "https://localhost:8080/",
          "height": 804
        },
        "outputId": "845f6f20-563c-4996-a5f8-1fbcd050ee49"
      },
      "source": [
        "#graph species in Star Wars by weight\n",
        "f, ax = plt.subplots(1, 1, figsize=(10, 8))\n",
        "\n",
        "colors = sns.color_palette('hls',len(weight['mass'])) #color palette: hls\n",
        "\n",
        "g = weight['mass'].sort_values(ascending=False).plot.bar(color = colors)\n",
        "g.set_xticklabels(g.get_xticklabels(),rotation = 90) \n",
        "plt.show()"
      ],
      "execution_count": 48,
      "outputs": [
        {
          "output_type": "display_data",
          "data": {
            "text/plain": [
              "<Figure size 1000x800 with 1 Axes>"
            ],
            "image/png": "[encoded data removed]"
          },
          "metadata": {}
        }
      ]
    },
    {
      "cell_type": "code",
      "metadata": {
        "id": "hK2jQwyhltL1",
        "colab": {
          "base_uri": "https://localhost:8080/"
        },
        "outputId": "a14c984b-506f-4a92-df26-99275cfd2c6f"
      },
      "source": [
        "#exclude outlier: Hutt (too big)\n",
        "#exclude data with a weight of 0\n",
        "out1 = sw['species'].isin(['Hutt'])\n",
        "out2 = sw['mass'].isin([0])\n",
        "sw[~out1][~out2].shape"
      ],
      "execution_count": 53,
      "outputs": [
        {
          "output_type": "stream",
          "name": "stderr",
          "text": [
            "<ipython-input-53-4e3d60c6794b>:5: UserWarning: Boolean Series key will be reindexed to match DataFrame index.\n",
            "  sw[~out1][~out2].shape\n"
          ]
        },
        {
          "output_type": "execute_result",
          "data": {
            "text/plain": [
              "(58, 11)"
            ]
          },
          "metadata": {},
          "execution_count": 53
        }
      ]
    },
    {
      "cell_type": "code",
      "metadata": {
        "id": "b0K_dJowkHM9",
        "colab": {
          "base_uri": "https://localhost:8080/",
          "height": 536
        },
        "outputId": "861fdbc6-c65d-4faf-9d4c-6240468bf027"
      },
      "source": [
        "#create a scatter plot with a linear regression line fit to visualize the correaltion between height and weight\n",
        "\n",
        "sns.lmplot(data = sw[~out1][~out2], x = 'height', y = 'mass', hue = 'gender') #hue=gender\n",
        "sns.set_style(style='darkgrid') \n",
        "\n",
        "plt.show()"
      ],
      "execution_count": 55,
      "outputs": [
        {
          "output_type": "stream",
          "name": "stderr",
          "text": [
            "<ipython-input-55-7552dc6c628a>:4: UserWarning: Boolean Series key will be reindexed to match DataFrame index.\n",
            "  sns.lmplot(data = sw[~out1][~out2], x = 'height', y = 'mass', hue = 'gender') #hue=gender로 나타내서도 살펴보기\n"
          ]
        },
        {
          "output_type": "display_data",
          "data": {
            "text/plain": [
              "<Figure size 633x500 with 1 Axes>"
            ],
            "image/png": "[encoded data removed]"
          },
          "metadata": {}
        }
      ]
    },
    {
      "cell_type": "markdown",
      "metadata": {
        "id": "js2AqHOMhlfv"
      },
      "source": [
        "##5. Review"
      ]
    },
    {
      "cell_type": "markdown",
      "metadata": {
        "id": "5gEYjZugh3cn"
      },
      "source": [
        "* Summary of dataset:  \n",
        "  - The available Star Wars dataset contains a total of 957 data points. \n",
        "  - Out of the total data points, there are 105 missing values, which accounts for approximately 10.97% of the dataset.  \n",
        "  - There are 87 distinct characters in the Star Wars universe. \n",
        "  - The Star Wars universe features a diverse range of 37 different races or species.  \n",
        "\n",
        "* What is the gender ratio of Star Wars characters?  \n",
        "  - Male characters account for 80% of the total population in the Star Wars dataset.\n",
        "\n",
        "* What is the distribution of characters' heights by gender?  \n",
        "  - Male characters tend to have a greater average height compared to female characters in the Star Wars dataset, while robots typically have a shorter stature.\n",
        "\n",
        "* Who are the heaviest and lightest characters?  \n",
        "  - Among the characters in the Star Wars dataset, 'Ratts Tyerell' holds the record for being the lightest, weighing in at 15.0. \n",
        "  - On the other hand, 'Jabba Desilijic Tiure' is the heaviest character, weighing 1358.0.\n",
        "\n",
        "* Do Star Wars characters' heights and weights correlate?  \n",
        "  - Yes. Despite living on a different planet than humans, the height and weight of characters in the Star Wars dataset exhibit a proportional relationship.\n"
      ]
    }
  ]
}
